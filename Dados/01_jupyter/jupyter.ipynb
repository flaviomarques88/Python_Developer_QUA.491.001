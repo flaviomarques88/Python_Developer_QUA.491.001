{
 "cells": [
  {
   "cell_type": "markdown",
   "id": "c5ba4536",
   "metadata": {},
   "source": [
    "Aqui eu posso digitar meu texto normalmente. Adicionar mais texto."
   ]
  },
  {
   "cell_type": "markdown",
   "id": "5050f791",
   "metadata": {},
   "source": [
    "Novo mardown adcionado embaixo do texto."
   ]
  },
  {
   "cell_type": "markdown",
   "id": "bdcb3ad4",
   "metadata": {},
   "source": [
    "# Titulo do meu texto \n",
    "---"
   ]
  },
  {
   "cell_type": "markdown",
   "id": "91463d6d",
   "metadata": {},
   "source": [
    "## Subtítulo"
   ]
  },
  {
   "cell_type": "markdown",
   "id": "01baedb2",
   "metadata": {},
   "source": [
    "### Título Nível 3"
   ]
  },
  {
   "cell_type": "markdown",
   "id": "dabad62f",
   "metadata": {},
   "source": [
    "Expemplificar um código em Python print (\"Olá Mundo!\")"
   ]
  },
  {
   "cell_type": "markdown",
   "id": "88a4e28d",
   "metadata": {},
   "source": [
    "Codigo em Java System.out.println(\"Olá, Mundo\");\n"
   ]
  },
  {
   "cell_type": "markdown",
   "id": "01fa71d7",
   "metadata": {},
   "source": [
    "Codigo-forte completo em Java\n",
    "~~~Java\n",
    "public class App{\n",
    "    public static void main String{} args) throws Exception {\n",
    "    System.out.println(\"Olá, Mundo!\");\n",
    "    }\n",
    "}\n"
   ]
  },
  {
   "cell_type": "code",
   "execution_count": 1,
   "id": "88e621bf",
   "metadata": {},
   "outputs": [
    {
     "name": "stdout",
     "output_type": "stream",
     "text": [
      "Ola, Mundo!\n"
     ]
    }
   ],
   "source": [
    "print(\"Ola, Mundo!\")"
   ]
  }
 ],
 "metadata": {
  "kernelspec": {
   "display_name": ".venv",
   "language": "python",
   "name": "python3"
  },
  "language_info": {
   "codemirror_mode": {
    "name": "ipython",
    "version": 3
   },
   "file_extension": ".py",
   "mimetype": "text/x-python",
   "name": "python",
   "nbconvert_exporter": "python",
   "pygments_lexer": "ipython3",
   "version": "3.13.4"
  }
 },
 "nbformat": 4,
 "nbformat_minor": 5
}
